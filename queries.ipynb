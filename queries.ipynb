{
  "nbformat": 4,
  "nbformat_minor": 0,
  "metadata": {
    "colab": {
      "name": "NICAR 2022 DB Optimization",
      "private_outputs": true,
      "provenance": []
    },
    "kernelspec": {
      "name": "python3",
      "display_name": "Python 3"
    },
    "language_info": {
      "name": "python"
    }
  },
  "cells": [
    {
      "cell_type": "code",
      "source": [
        "--%%sql\n",
        "\n",
        "SELECT \"year\",\n",
        "\tCOUNT(\"year\")\n",
        "\tFROM \"emails-text\"\n",
        "\tWHERE \"year\" = 2020\n",
        "\tGROUP BY \"year\";"
      ],
      "metadata": {
        "id": "NfQWojEOvLwZ"
      },
      "execution_count": null,
      "outputs": []
    },
    {
      "cell_type": "code",
      "source": [
        "--%%sql\n",
        "\n",
        "CREATE INDEX \"emails-text-year\" ON \"emails-text\" (\"year\");"
      ],
      "metadata": {
        "id": "KwlLFnXTy6lr"
      },
      "execution_count": null,
      "outputs": []
    },
    {
      "cell_type": "code",
      "source": [
        "--%%sql\n",
        " \n",
        "SELECT *\n",
        "FROM \"emails-text\" AS E\n",
        "JOIN \"travel-disclosures\" AS T ON T.\"Year\" = E.\"year\"\n",
        "ORDER BY E.\"year\";"
      ],
      "metadata": {
        "id": "0kicyudwy8ig"
      },
      "execution_count": null,
      "outputs": []
    },
    {
      "cell_type": "code",
      "source": [
        "--%%sql\n",
        "\n",
        "CREATE INDEX \"travel-disclosures-Year\" ON \"travel-disclosures\" (\"Year\");"
      ],
      "metadata": {
        "id": "WP7H_Jx70vzG"
      },
      "execution_count": null,
      "outputs": []
    },
    {
      "cell_type": "code",
      "source": [
        "--%%sql\n",
        "\n",
        "SELECT *\n",
        "FROM \"emails-text\" AS E\n",
        "JOIN \"travel-disclosures\" AS T ON T.\"FilerName\" = E.\"name\"\n",
        "WHERE T.\"MemberName\" = 'McCarthy, Kevin'\n",
        "ORDER BY E.\"year\" DESC\n",
        "LIMIT 100;"
      ],
      "metadata": {
        "id": "ghsIZL5v0yhD"
      },
      "execution_count": null,
      "outputs": []
    },
    {
      "cell_type": "code",
      "source": [
        "--%%sql\n",
        "\n",
        "CREATE INDEX \"travel-disclosures-MemberName-hash\" ON \"travel-disclosures\" USING HASH (\"MemberName\");\n",
        "CREATE INDEX \"emails-text-name-hash\" ON \"emails-text\" USING HASH (\"name\");"
      ],
      "metadata": {
        "id": "KknlvGnq01n-"
      },
      "execution_count": null,
      "outputs": []
    },
    {
      "cell_type": "code",
      "source": [
        "--%%sql\n",
        "\n",
        "CREATE FUNCTION FIRSTLAST(text) RETURNS text AS $$\n",
        "\tSELECT REGEXP_REPLACE(REGEXP_REPLACE($1,'[^A-Za-z\\.,\\s]', ''), '^([^\\s]+), ([^\\s]+)\\s*.*',  '\\2 \\1');\n",
        "$$ LANGUAGE SQL;"
      ],
      "metadata": {
        "id": "g5EWoAnQ09jW"
      },
      "execution_count": null,
      "outputs": []
    },
    {
      "cell_type": "code",
      "source": [
        "--%%sql\n",
        "\n",
        "SELECT T.\"MemberName\",\n",
        "\tE.\"name\",\n",
        "  E.date::timestamp with time zone - T.\"ReturnDate\"::timestamp with time zone AS \"since-return\",\n",
        "\tT.\"TravelSponsor\",\n",
        "\tE.\"subject\",\n",
        "\tE.\"body\"\n",
        "FROM \"travel-disclosures\" AS T\n",
        "JOIN \"emails-text\" AS E ON E.NAME = FIRSTLAST(T.\"MemberName\")\n",
        "WHERE\n",
        "\t(E.\"date\"::TIMESTAMPTZ - T.\"ReturnDate\"::TIMESTAMPTZ) < '1 week'::interval\n",
        "\tAND (E.\"date\"::TIMESTAMPTZ - T.\"ReturnDate\"::TIMESTAMPTZ) > '0 days'::interval;"
      ],
      "metadata": {
        "id": "9k45D-t81Cmd"
      },
      "execution_count": null,
      "outputs": []
    },
    {
      "cell_type": "code",
      "source": [
        "--%%sql\n",
        "\n",
        "CREATE MATERIALIZED VIEW IF NOT EXISTS \"email-travel-return-diff\"\n",
        "AS\n",
        " SELECT t.\"MemberName\" AS \"travel-MemberName\",\n",
        "    e.name AS \"email-name\",\n",
        "    e.date::timestamp with time zone - t.\"ReturnDate\"::timestamp with time zone AS \"since-return\",\n",
        "    t.\"TravelSponsor\" AS \"travel-TravelSponsor\",\n",
        "    e.subject AS \"email-subject\",\n",
        "    e.body AS \"email-body\"\n",
        "   FROM \"travel-disclosures\" t\n",
        "     JOIN \"emails-text\" e ON e.name::text = firstlast(t.\"MemberName\"::text)\n",
        "WITH DATA;\n",
        "\n",
        "CREATE INDEX \"email-travel-return-diff-since-return\" ON \"email-travel-return-diff\" (\"since-return\");"
      ],
      "metadata": {
        "id": "Xw5_tEt-1IUI"
      },
      "execution_count": null,
      "outputs": []
    },
    {
      "cell_type": "code",
      "source": [
        "--%%sql\n",
        "\n",
        "SELECT \"travel-MemberName\", *\n",
        "FROM \"email-travel-return-diff\" AS ET\n",
        "WHERE \"since-return\" > '0 days'::interval\n",
        "\tAND \"since-return\" < '1 week'::interval;"
      ],
      "metadata": {
        "id": "6UUthkfG1Jwd"
      },
      "execution_count": null,
      "outputs": []
    },
    {
      "cell_type": "code",
      "source": [
        "--%%sql\n",
        "\n",
        "SELECT *\n",
        "FROM \"email-travel-return-diff\" AS ET\n",
        "WHERE \"since-return\" > '0 days'::interval\n",
        "\tAND \"since-return\" < '1 week'::interval\n",
        "\tAND TO_TSVECTOR(\"email-body\") @@ TO_TSQUERY('climate');"
      ],
      "metadata": {
        "id": "DKQEn2H41Ncf"
      },
      "execution_count": null,
      "outputs": []
    },
    {
      "cell_type": "code",
      "source": [
        "--%%sql\n",
        "\n",
        "ALTER TABLE \"emails-text\"\n",
        "    ADD COLUMN \"search-index-column\" tsvector\n",
        "               GENERATED ALWAYS AS (to_tsvector('english', coalesce(\"subject\", '') || ' ' || coalesce(\"body\", ''))) STORED;\n",
        "CREATE INDEX \"search-index-column-gin\" ON \"emails-text\" USING GIN (\"search-index-column\");"
      ],
      "metadata": {
        "id": "VGqR1ECk1P4v"
      },
      "execution_count": null,
      "outputs": []
    },
    {
      "cell_type": "code",
      "source": [
        "--%%sql\n",
        "\n",
        "SELECT *\n",
        "FROM \"emails-text\"\n",
        "WHERE \"search-index-column\" @@ TO_TSQUERY('climate & fraud');"
      ],
      "metadata": {
        "id": "CgXZ64NT1TMe"
      },
      "execution_count": null,
      "outputs": []
    },
    {
      "cell_type": "code",
      "source": [
        "--%%sql\n",
        "\n",
        "SELECT *\n",
        "FROM \"stocks\"\n",
        "WHERE \"jdoc\" @> '{\"cap_gains_over_200_usd\": true}'::JSONB;"
      ],
      "metadata": {
        "id": "uF9fLUc01WSF"
      },
      "execution_count": null,
      "outputs": []
    },
    {
      "cell_type": "code",
      "source": [
        "--%%sql\n",
        "\n",
        "CREATE INDEX \"stocks-index-gin\" ON \"stocks\" USING GIN (\"jdoc\");"
      ],
      "metadata": {
        "id": "GLg7ag4w7Xlq"
      },
      "execution_count": null,
      "outputs": []
    },
    {
      "cell_type": "code",
      "source": [
        "--%%sql\n",
        "\n",
        "ALTER TABLE \"stocks\"\n",
        "\tADD COLUMN \"min-amount\" int\n",
        "\t\tGENERATED ALWAYS AS (\n",
        "\n",
        "\t(REGEXP_REPLACE((REGEXP_REPLACE(\n",
        "\t\t(\"jdoc\"->'amount')::text,\n",
        "\t\t'\\$([0-9,]+)\\s*[-+]*\\s*\\$*([0-9,]*)',\n",
        "\t\t'\\1'\n",
        "\t))::text || '-1', '[^0-9]', '', 'g'))::int\n",
        "\t\t\t\n",
        ") STORED;\n",
        "CREATE INDEX \"stocks-min-amount\" ON \"stocks\" (\"min-amount\");"
      ],
      "metadata": {
        "id": "RIcpkYiT7ehm"
      },
      "execution_count": null,
      "outputs": []
    },
    {
      "cell_type": "code",
      "source": [
        "--%%sql\n",
        "\n",
        "SELECT *\n",
        "FROM \"stocks\"\n",
        "WHERE \"min-amount\" > 5000001\n",
        "ORDER BY \"min-amount\" DESC;\n",
        "\n",
        "\n",
        "SELECT \"jdoc\"->'comment'\n",
        "FROM \"stocks\"\n",
        "WHERE \"jdoc\" ? 'comment' and (\"jdoc\"->'comment')::text like '%Child%';\n",
        "\n",
        "\n",
        "SELECT \"jdoc\"->'comment'\n",
        "FROM \"stocks\"\n",
        "WHERE \"jdoc\" ? 'comment' and (\"jdoc\"->'comment')::text != '\"--\"';\n"
      ],
      "metadata": {
        "id": "sc-HG_P02ziY"
      },
      "execution_count": null,
      "outputs": []
    }
  ]
}